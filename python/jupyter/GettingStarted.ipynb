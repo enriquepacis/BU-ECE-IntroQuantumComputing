{
 "cells": [
  {
   "cell_type": "markdown",
   "id": "714eb856-c9d4-44a7-8cbd-3b8c6f03e94b",
   "metadata": {
    "tags": []
   },
   "source": [
    "# Getting Started with Qiskit"
   ]
  },
  {
   "cell_type": "markdown",
   "id": "88f076ba-07ad-49b9-8b45-9424cca0a079",
   "metadata": {
    "tags": []
   },
   "source": [
    "***\n",
    "## Installing Anaconda"
   ]
  },
  {
   "cell_type": "markdown",
   "id": "e5897a44-9977-4b27-8319-ac586e126097",
   "metadata": {},
   "source": [
    "This is a Jupyter notebook, and the Python functionality is available if viewed in a web browser with a local Jupyter server. I prefer JupyterLab over Jupyter Notebook because collapsible sections help us make large, structure documents that are easier to navigate. To make notebooks like this, we need to install Python and the appropriate packages."
   ]
  },
  {
   "cell_type": "markdown",
   "id": "029bb102-9574-4517-9da0-baee8e0712e2",
   "metadata": {
    "tags": []
   },
   "source": [
    "Anaconda allowed me to make this notebook. Anaconda comes with Jupyter Lab, but I wanted to install `qiskit`, so I made a new conda environment."
   ]
  },
  {
   "cell_type": "markdown",
   "id": "6db67aa8-6442-4686-a0f5-0b26d4ba130f",
   "metadata": {},
   "source": [
    "### Mac Installation"
   ]
  },
  {
   "cell_type": "markdown",
   "id": "59acd60f-5be0-4665-9f1b-af85dc9be1e3",
   "metadata": {
    "tags": []
   },
   "source": [
    "I have been most successful with the [Mac command line installations](https://docs.anaconda.com/free/anaconda/install/mac-os/#command-line-install) of Anaconda."
   ]
  },
  {
   "cell_type": "markdown",
   "id": "ca3f879b-8a78-41e6-b3e5-df347ed6f694",
   "metadata": {},
   "source": [
    "### Windows Installation"
   ]
  },
  {
   "cell_type": "markdown",
   "id": "e6d8f6a3-1276-43f4-8ee2-0dad9fbbaf58",
   "metadata": {},
   "source": [
    "Visit the [Anaconda website](https://www.anaconda.com/download) and download the installer. Double-click it, and follow the instructions."
   ]
  },
  {
   "cell_type": "markdown",
   "id": "c2398e4f-b5b0-4f16-9491-5a338303031b",
   "metadata": {
    "tags": []
   },
   "source": [
    "***\n",
    "## Installing Qiskit"
   ]
  },
  {
   "cell_type": "markdown",
   "id": "8fddde5c-2df8-4007-af59-cfd534c99c84",
   "metadata": {},
   "source": [
    "Once we have Anaconda installed, we can install Qiskit.\n",
    "\n",
    "The Qiskit [installation instructions](https://docs.quantum.ibm.com/start/install) call for a virtual environment, so I did the following:\n",
    "1. (Recommended). Establish a conda environment for `qiskit`.\n",
    "   1. To do this, I used the following in the terminal: `conda create -n qiskitenv python=3.11`\n",
    "      1. Here, I am specifying `qiskitenv` as an environment name, and\n",
    "      2. I am using `python=3.11` to specify an older verion of Python (3.12 and 3.13 are available at this time). I have enjoyed the most success with Python 3.11 in `qiskit`.\n",
    "   2. An alternate method (not recommended) is to use the standard Python using the following:\n",
    "      1. On Mac/UNIX/Linux: `python3.11 -m venv path/to/qiskitenv`\n",
    "      2. On Windows: `python3.11 -m venv path\\to\\qiskitenv`\n",
    "2. Activate the virtual environment.\n",
    "   1. Using conda (recommended): `conda activate qiskitenv`\n",
    "   2. Standard Python:\n",
    "      1. On Mac/UNIX/Linux: `source path/to/qiskitenv/bin/activate`\n",
    "      2. On Windows:\n",
    "         1. PowerShell: `path\\to\\qiskitenv\\Scripts\\activate.ps1`\n",
    "         2. `cmd.exe` (Windows terminal): `path\\to\\qiskitenv\\Scripts\\activate.bat`\n",
    "3. Install packages:\n",
    "   1. Install from list of packages: `pip install -r https://enriquepacis.github.io/BU-ECE-IntroQuantumComputing/python/requirementsQIS.txt`\n",
    "\n",
    "Now, we should have `qiskit` installed.\n"
   ]
  },
  {
   "cell_type": "markdown",
   "id": "7e941b49-b265-4bab-8c6c-8e15f98b7e18",
   "metadata": {},
   "source": [
    "## Optional: Install a Kernel"
   ]
  },
  {
   "cell_type": "markdown",
   "id": "6facc520-5896-4d2b-a55e-4dcb66c8886a",
   "metadata": {},
   "source": [
    "Jupyter notebooks will not have this new `venv` registered for use as a Jupyter Lab notebook kernel, so we may not have access to `qiskitenv` and its installed packages inside Jupyter Lab unless:\n",
    "1. We activate our virtual environment, and from this environment we invoke Jupyter Lab\n",
    "2. Register your new environment as a kernel. Then, whenever you open a Juypter notebook, you can choose from `qiskitenv` or any other registered kernel as the environment for your open notebook.\n",
    "\n",
    "To regester your virtual environment as a kernel:\n",
    "1. Activate the virtual environment\n",
    "2. Use code like this ([source](https://saturncloud.io/blog/how-to-add-a-python-3-kernel-to-jupyter-ipython/)) to register the active environment: `python -m ipykernel install --user --name=qiskitenv-kernel`\n",
    "\n",
    "Some instructions call for the installation of `ipykernel`, but Anaconda includes it."
   ]
  },
  {
   "cell_type": "markdown",
   "id": "a6ae6e3d-5492-4ab4-9fd6-49baa7fc2aeb",
   "metadata": {},
   "source": [
    "### Verifying Use of Qiskit"
   ]
  },
  {
   "cell_type": "markdown",
   "id": "9d30fbff-8e5c-4020-9049-2e3ed24d8d51",
   "metadata": {},
   "source": [
    "We've taken several steps from making a virtual environment to installing `qiskit` in that environment. Now, we can verify that we can access our new 'kernel' from within a `*.ipynb` file.\n",
    "\n",
    "We can verify that Qiskit is up and running by using `import qiskit`"
   ]
  },
  {
   "cell_type": "code",
   "execution_count": 1,
   "id": "3d2033bf-5ce8-4611-8698-8c7e4ada64db",
   "metadata": {
    "tags": []
   },
   "outputs": [],
   "source": [
    "import qiskit"
   ]
  },
  {
   "cell_type": "markdown",
   "id": "a40f25ec-2f73-48ce-85a4-0450b552591d",
   "metadata": {},
   "source": [
    "The absence of errors here indicates that Python can find `qiskit\n",
    "\n",
    "Hint: you can run all cells of this notebook in sequence by using the Jupyter Lab menu bar at the top:\n",
    "1. Click on the *Kernel* menu\n",
    "2. Select *Restart kernel and run all cells*"
   ]
  },
  {
   "cell_type": "markdown",
   "id": "1e491a61-4e5b-4994-be57-2274f05a0595",
   "metadata": {
    "tags": []
   },
   "source": [
    "***\n",
    "## Import the required `qiskit` tools"
   ]
  },
  {
   "cell_type": "markdown",
   "id": "891d185b-3f85-43e5-af57-970194a21176",
   "metadata": {
    "tags": []
   },
   "source": [
    "If you can run the following code cell, you have successfully installed `qiskit` and `qiskit_aer`. This simply imports the required packages."
   ]
  },
  {
   "cell_type": "code",
   "execution_count": 2,
   "id": "7a742e5d-dc59-4214-8d99-608aff0b8d4e",
   "metadata": {},
   "outputs": [],
   "source": [
    "from qiskit import QuantumCircuit\n",
    "from qiskit_aer import AerSimulator\n",
    "from qiskit.visualization import plot_distribution, plot_histogram\n",
    "\n",
    "backend = AerSimulator() # instantiate a simulator"
   ]
  },
  {
   "cell_type": "markdown",
   "id": "8d819059-28aa-446b-af25-f325ad8468b7",
   "metadata": {},
   "source": [
    "## Build a quantum circuit"
   ]
  },
  {
   "cell_type": "code",
   "execution_count": 3,
   "id": "901d0657-1907-485a-8cd0-04790db06752",
   "metadata": {},
   "outputs": [
    {
     "data": {
      "image/png": "[encoded data removed]",
      "text/plain": [
       "<Figure size 185.453x200.667 with 1 Axes>"
      ]
     },
     "execution_count": 3,
     "metadata": {},
     "output_type": "execute_result"
    }
   ],
   "source": [
    "# Create quantum circuit with 1 qubit and 1 classical bit\n",
    "qc = QuantumCircuit(1, 1)\n",
    "\n",
    "qc.measure([0], [0]) # Measure qubit 0, assign result to classical bit 0\n",
    "\n",
    "qc.draw() # Show the circuit"
   ]
  },
  {
   "cell_type": "markdown",
   "id": "91959dea-ca3e-4c52-93c6-6c697c075121",
   "metadata": {},
   "source": [
    "## Run the simulation"
   ]
  },
  {
   "cell_type": "markdown",
   "id": "c61fb0ea-d8cf-46ff-800d-44fe64e59fad",
   "metadata": {},
   "source": [
    "Now, we will run the simulation and view the results."
   ]
  },
  {
   "cell_type": "code",
   "execution_count": 4,
   "id": "0e8c6665-bd43-47dc-b70b-00da5c47b6d6",
   "metadata": {
    "scrolled": true
   },
   "outputs": [
    {
     "data": {
      "image/png": "[encoded data removed]",
      "text/plain": [
       "<Figure size 640x480 with 1 Axes>"
      ]
     },
     "metadata": {},
     "output_type": "display_data"
    },
    {
     "data": {
      "image/png": "[encoded data removed]",
      "text/plain": [
       "<Figure size 700x500 with 1 Axes>"
      ]
     },
     "metadata": {},
     "output_type": "display_data"
    }
   ],
   "source": [
    "job = backend.run(qc)\n",
    "\n",
    "display(plot_histogram(job.result().get_counts()))\n",
    "\n",
    "display(plot_distribution(job.result().get_counts()))"
   ]
  },
  {
   "cell_type": "markdown",
   "id": "7659772b-65a3-43b8-93e4-443920515ca9",
   "metadata": {},
   "source": [
    "The first plot indicates that we ran our circuit 1024 times (shots), and in every case, we measured \"0\".\n",
    "\n",
    "The second plot above represents this as quasiprobabilities: we have a 100% chance of measuring \"0\", and a 0% chance of measuring \"1\" (not shown).\n",
    "\n",
    "If you ran the entire notebook without errors, it indicates you have a successful `qiskit` installation."
   ]
  },
  {
   "cell_type": "code",
   "execution_count": null,
   "id": "9a75de20-710b-42f0-b975-efd346360e57",
   "metadata": {},
   "outputs": [],
   "source": []
  }
 ],
 "metadata": {
  "kernelspec": {
   "display_name": "Python 3 (ipykernel)",
   "language": "python",
   "name": "python3"
  },
  "language_info": {
   "codemirror_mode": {
    "name": "ipython",
    "version": 3
   },
   "file_extension": ".py",
   "mimetype": "text/x-python",
   "name": "python",
   "nbconvert_exporter": "python",
   "pygments_lexer": "ipython3",
   "version": "3.11.11"
  }
 },
 "nbformat": 4,
 "nbformat_minor": 5
}
